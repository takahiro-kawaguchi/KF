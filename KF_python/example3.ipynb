{
 "cells": [
  {
   "cell_type": "code",
   "execution_count": 1,
   "metadata": {
    "executionInfo": {
     "elapsed": 376,
     "status": "ok",
     "timestamp": 1625030633855,
     "user": {
      "displayName": "川口貴弘",
      "photoUrl": "",
      "userId": "07125751929423622800"
     },
     "user_tz": -540
    },
    "id": "8OJM6x2oua9d"
   },
   "outputs": [],
   "source": [
    "# 初期設定\n",
    "import numpy as np\n",
    "import scipy.linalg\n",
    "import matplotlib.pyplot as plt"
   ]
  },
  {
   "cell_type": "code",
   "execution_count": 2,
   "metadata": {
    "executionInfo": {
     "elapsed": 5,
     "status": "ok",
     "timestamp": 1625030633855,
     "user": {
      "displayName": "川口貴弘",
      "photoUrl": "",
      "userId": "07125751929423622800"
     },
     "user_tz": -540
    },
    "id": "OxrwNqhUu8zJ"
   },
   "outputs": [],
   "source": [
    "def kf_predict(x, P, u, A, Bu, B, Q):\n",
    "    if u is None:\n",
    "        x_new = A @ x\n",
    "    else:\n",
    "        x_new = A @ x + Bu @ u\n",
    "    P_new = A @ P @ A.T + B @ Q @ B.T\n",
    "    return x_new, P_new"
   ]
  },
  {
   "cell_type": "code",
   "execution_count": 3,
   "metadata": {
    "executionInfo": {
     "elapsed": 6,
     "status": "ok",
     "timestamp": 1625030633856,
     "user": {
      "displayName": "川口貴弘",
      "photoUrl": "",
      "userId": "07125751929423622800"
     },
     "user_tz": -540
    },
    "id": "-SZSrTpPwJXt"
   },
   "outputs": [],
   "source": [
    "def kf_update(x, P, y, C, R):\n",
    "    S = R + C @ P @ C.T\n",
    "    K = scipy.linalg.solve(S.T, C @ P, assume_a=\"pos\").T\n",
    "    # K = P@C.T@scipy.linalg.inv(S)\n",
    "    x_new = x + K @ (y - C @ x)\n",
    "    P_new = P - K @ C @ P\n",
    "    return x_new, P_new, K"
   ]
  },
  {
   "cell_type": "code",
   "execution_count": 4,
   "metadata": {
    "executionInfo": {
     "elapsed": 5,
     "status": "ok",
     "timestamp": 1625030633856,
     "user": {
      "displayName": "川口貴弘",
      "photoUrl": "",
      "userId": "07125751929423622800"
     },
     "user_tz": -540
    },
    "id": "z6u4Rf-bui0_"
   },
   "outputs": [],
   "source": [
    "A = np.eye(2)\n",
    "B = np.eye(2)\n",
    "Bu = None\n",
    "C = np.zeros((1, 2))\n",
    "# Q = np.diag([1e-4, 1e-6])\n",
    "Q = np.diag([1e-2, 1e-3])\n",
    "R = np.array([[1]])\n",
    "\n",
    "N = 1000\n",
    "\n",
    "u = np.random.normal(0, 1.0, N)\n",
    "w = np.random.normal(0, 1.0, N)\n",
    "\n",
    "xhat = np.zeros(2)\n",
    "P = np.eye(2) * 10.0\n",
    "\n",
    "X = []\n",
    "Xhat = []\n",
    "Y = []\n",
    "U = []\n",
    "\n",
    "a = 0.9\n",
    "b = 2\n",
    "\n",
    "y = np.array([0])"
   ]
  },
  {
   "cell_type": "code",
   "execution_count": 5,
   "metadata": {
    "executionInfo": {
     "elapsed": 366,
     "status": "ok",
     "timestamp": 1625030634217,
     "user": {
      "displayName": "川口貴弘",
      "photoUrl": "",
      "userId": "07125751929423622800"
     },
     "user_tz": -540
    },
    "id": "SguaK7nowMfO",
    "scrolled": true,
    "tags": []
   },
   "outputs": [],
   "source": [
    "# システムのシミュレーションと推定\n",
    "for k in range(N):\n",
    "    xhat, P, K = kf_update(xhat, P, y, C, R)\n",
    "    X.append([a, b])\n",
    "    Y.append(y)\n",
    "    Xhat.append(xhat)\n",
    "    C[:, 0] = y\n",
    "    C[:, 1] = u[k]\n",
    "    y = a * y + b * u[k] + w[k]\n",
    "    xhat, P = kf_predict(xhat, P, None, A, None, B, Q)\n",
    "    if k == N / 2:\n",
    "        a = 0.5"
   ]
  },
  {
   "cell_type": "code",
   "execution_count": 6,
   "metadata": {
    "executionInfo": {
     "elapsed": 8,
     "status": "ok",
     "timestamp": 1625030634218,
     "user": {
      "displayName": "川口貴弘",
      "photoUrl": "",
      "userId": "07125751929423622800"
     },
     "user_tz": -540
    },
    "id": "PNaS97c5wXe8"
   },
   "outputs": [],
   "source": [
    "Xhat_np = np.array(Xhat)\n",
    "X_np = np.array(X)"
   ]
  },
  {
   "cell_type": "code",
   "execution_count": 7,
   "metadata": {
    "colab": {
     "base_uri": "https://localhost:8080/",
     "height": 283
    },
    "executionInfo": {
     "elapsed": 553,
     "status": "ok",
     "timestamp": 1625030634764,
     "user": {
      "displayName": "川口貴弘",
      "photoUrl": "",
      "userId": "07125751929423622800"
     },
     "user_tz": -540
    },
    "id": "rbuMwKBUAx4B",
    "outputId": "db647d9b-1cc7-4a1d-b528-b319502e2b4d"
   },
   "outputs": [
    {
     "data": {
      "text/plain": [
       "[<matplotlib.lines.Line2D at 0x7f9f692e7100>,\n",
       " <matplotlib.lines.Line2D at 0x7f9f692e7130>]"
      ]
     },
     "execution_count": 7,
     "metadata": {},
     "output_type": "execute_result"
    },
    {
     "data": {
      "image/png": "[encoded data removed]",
      "text/plain": [
       "<Figure size 432x288 with 1 Axes>"
      ]
     },
     "metadata": {
      "needs_background": "light"
     },
     "output_type": "display_data"
    }
   ],
   "source": [
    "fig1 = plt.figure()\n",
    "plt.plot(Xhat_np)\n",
    "plt.plot(X_np)"
   ]
  },
  {
   "cell_type": "code",
   "execution_count": 8,
   "metadata": {},
   "outputs": [],
   "source": [
    "plt.show()"
   ]
  }
 ],
 "metadata": {
  "colab": {
   "authorship_tag": "ABX9TyNraba+N3WhX1ZTJm8T9l2f",
   "collapsed_sections": [],
   "name": "example1.ipynb",
   "provenance": []
  },
  "kernelspec": {
   "display_name": "Python 3 (ipykernel)",
   "language": "python",
   "name": "python3"
  },
  "language_info": {
   "codemirror_mode": {
    "name": "ipython",
    "version": 3
   },
   "file_extension": ".py",
   "mimetype": "text/x-python",
   "name": "python",
   "nbconvert_exporter": "python",
   "pygments_lexer": "ipython3",
   "version": "3.9.10"
  }
 },
 "nbformat": 4,
 "nbformat_minor": 4
}
